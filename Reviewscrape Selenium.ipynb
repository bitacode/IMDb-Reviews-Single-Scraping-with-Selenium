{
 "cells": [
  {
   "cell_type": "markdown",
   "id": "c5e95c6f",
   "metadata": {},
   "source": [
    "# Importing libraries"
   ]
  },
  {
   "cell_type": "code",
   "execution_count": 1,
   "id": "0e1bfb54",
   "metadata": {},
   "outputs": [],
   "source": [
    "from selenium import webdriver\n",
    "from selenium.webdriver.support.ui import WebDriverWait\n",
    "from selenium.webdriver.common.by import By\n",
    "from selenium.webdriver.support import expected_conditions as EC\n",
    "from selenium.common.exceptions import TimeoutException\n",
    "\n",
    "import pandas as pd\n",
    "import requests\n",
    "from bs4 import BeautifulSoup"
   ]
  },
  {
   "cell_type": "markdown",
   "id": "ccb8cf8b",
   "metadata": {},
   "source": [
    "# Defining URL using Selenium"
   ]
  },
  {
   "cell_type": "code",
   "execution_count": 2,
   "id": "b6d0acba",
   "metadata": {},
   "outputs": [],
   "source": [
    "options = webdriver.EdgeOptions() \n",
    "options.add_argument(\"start-maximized\")\n",
    "options.add_experimental_option(\"excludeSwitches\", [\"enable-automation\"])\n",
    "options.add_experimental_option('useAutomationExtension', False)\n",
    "driver = webdriver.Edge(options=options)\n",
    "driver.get('https://www.imdb.com/title/tt9000302/reviews')"
   ]
  },
  {
   "cell_type": "markdown",
   "id": "c965ec60",
   "metadata": {},
   "source": [
    "# Auto click _Load More_ button"
   ]
  },
  {
   "cell_type": "code",
   "execution_count": 3,
   "id": "7be1f24b",
   "metadata": {
    "scrolled": true
   },
   "outputs": [
    {
     "name": "stdout",
     "output_type": "stream",
     "text": [
      "No more LOAD MORE button to be clicked\n"
     ]
    }
   ],
   "source": [
    "while True:\n",
    "    try:\n",
    "        driver.execute_script(\"return arguments[0].scrollIntoView(true);\", WebDriverWait(driver, 5).until(EC.visibility_of_element_located((By.XPATH, \"//button[@class='ipl-load-more__button']\"))))\n",
    "        WebDriverWait(driver, 20).until(EC.element_to_be_clickable((By.XPATH, \"//button[@class='ipl-load-more__button']\"))).click()\n",
    "    except TimeoutException:\n",
    "        print(\"No more LOAD MORE button to be clicked\")\n",
    "        break"
   ]
  },
  {
   "cell_type": "markdown",
   "id": "51f2664d",
   "metadata": {},
   "source": [
    "# Expand reviews"
   ]
  },
  {
   "cell_type": "code",
   "execution_count": 4,
   "id": "badd67c0",
   "metadata": {},
   "outputs": [
    {
     "name": "stdout",
     "output_type": "stream",
     "text": [
      "Expand review button clicked\n",
      "Expand review button clicked\n",
      "Expand review button clicked\n",
      "Expand review button clicked\n",
      "Expand review button clicked\n",
      "Expand review button clicked\n",
      "Expand review button clicked\n",
      "Expand review button clicked\n",
      "Expand review button clicked\n",
      "Expand review button clicked\n",
      "Expand review button clicked\n",
      "Expand review button clicked\n",
      "Expand review button clicked\n",
      "Expand review button clicked\n",
      "Expand review button clicked\n",
      "Expand review button clicked\n",
      "Expand review button clicked\n",
      "Expand review button clicked\n",
      "Expand review button clicked\n",
      "Expand review button clicked\n",
      "Expand review button clicked\n",
      "No more expand review button to be clicked\n"
     ]
    }
   ],
   "source": [
    "while True:\n",
    "    try:\n",
    "        driver.execute_script(\"return arguments[0].scrollIntoView(true);\", WebDriverWait(driver, 5).until(EC.visibility_of_element_located((By.XPATH, \"//div[@class='text show-more__control clickable']\"))))\n",
    "        WebDriverWait(driver, 20).until(EC.element_to_be_clickable((By.XPATH, \"//div[@class='text show-more__control clickable']\"))).click()\n",
    "        print(\"Expand review button clicked\")\n",
    "    except TimeoutException:\n",
    "        print(\"No more expand review button to be clicked\")\n",
    "        break"
   ]
  },
  {
   "cell_type": "markdown",
   "id": "f02116bb",
   "metadata": {},
   "source": [
    "# Scraping data"
   ]
  },
  {
   "cell_type": "code",
   "execution_count": 5,
   "id": "110852ae",
   "metadata": {},
   "outputs": [],
   "source": [
    "soup = BeautifulSoup(driver.page_source)\n",
    "\n",
    "movie_title = []\n",
    "user_rating = []\n",
    "review_title = []\n",
    "user_name = []\n",
    "movie_review = []"
   ]
  },
  {
   "cell_type": "code",
   "execution_count": 6,
   "id": "e530f406",
   "metadata": {},
   "outputs": [],
   "source": [
    "review_data = soup.findAll('div', attrs= {'class': 'review-container'})"
   ]
  },
  {
   "cell_type": "code",
   "execution_count": 7,
   "id": "f713bb94",
   "metadata": {},
   "outputs": [],
   "source": [
    "movie_data = soup.findAll('div', attrs= {'class': 'subpage_title_block'})"
   ]
  },
  {
   "cell_type": "code",
   "execution_count": 8,
   "id": "65219091",
   "metadata": {},
   "outputs": [],
   "source": [
    "for push in movie_data:\n",
    "\n",
    "    movietitle = push.h3.a.text\n",
    "    movie_title.append(movietitle)"
   ]
  },
  {
   "cell_type": "code",
   "execution_count": 9,
   "id": "2678b768",
   "metadata": {},
   "outputs": [],
   "source": [
    "for store in review_data:\n",
    "\n",
    "    rating = store.find('span', class_ = 'rating-other-user-rating').span.text if store.find('span', class_ = 'rating-other-user-rating') else 'null'\n",
    "    user_rating.append(rating)\n",
    "    \n",
    "    title = store.find('a', class_ = 'title').text.lstrip().replace('\\n', '')\n",
    "    review_title.append(title)\n",
    "\n",
    "    username = store.find('span', class_ = 'display-name-link').a.text\n",
    "    user_name.append(username)\n",
    "    \n",
    "    review = store.find('div', 'text show-more__control').text.replace('\\n', '') if store.find('div', class_ = 'text show-more__control') else 'Spoiler'\n",
    "    movie_review.append(review)"
   ]
  },
  {
   "cell_type": "code",
   "execution_count": 10,
   "id": "ea0f442e",
   "metadata": {},
   "outputs": [],
   "source": [
    "length = len(review_data)\n",
    "\n",
    "title_of_movie = movie_title * length"
   ]
  },
  {
   "cell_type": "code",
   "execution_count": 11,
   "id": "2b744577",
   "metadata": {},
   "outputs": [],
   "source": [
    "movie_DF = pd.DataFrame({'Movie Title': title_of_movie, 'User Rating': user_rating, 'Review Title': review_title, 'Username': user_name, 'Review': movie_review})"
   ]
  },
  {
   "cell_type": "code",
   "execution_count": 12,
   "id": "9b51fb65",
   "metadata": {},
   "outputs": [
    {
     "data": {
      "text/html": [
       "<div>\n",
       "<style scoped>\n",
       "    .dataframe tbody tr th:only-of-type {\n",
       "        vertical-align: middle;\n",
       "    }\n",
       "\n",
       "    .dataframe tbody tr th {\n",
       "        vertical-align: top;\n",
       "    }\n",
       "\n",
       "    .dataframe thead th {\n",
       "        text-align: right;\n",
       "    }\n",
       "</style>\n",
       "<table border=\"1\" class=\"dataframe\">\n",
       "  <thead>\n",
       "    <tr style=\"text-align: right;\">\n",
       "      <th></th>\n",
       "      <th>Movie Title</th>\n",
       "      <th>User Rating</th>\n",
       "      <th>Review Title</th>\n",
       "      <th>Username</th>\n",
       "      <th>Review</th>\n",
       "    </tr>\n",
       "  </thead>\n",
       "  <tbody>\n",
       "    <tr>\n",
       "      <th>0</th>\n",
       "      <td>Impetigore</td>\n",
       "      <td>7</td>\n",
       "      <td>More of a twisted supernatural drama with surr...</td>\n",
       "      <td>Fella_shibby</td>\n",
       "      <td>I found this to be a disappointment as my expe...</td>\n",
       "    </tr>\n",
       "    <tr>\n",
       "      <th>1</th>\n",
       "      <td>Impetigore</td>\n",
       "      <td>7</td>\n",
       "      <td>Heavy gore and some tough scenes to watch in a...</td>\n",
       "      <td>jtindahouse</td>\n",
       "      <td>I was supposed to be arriving in Bali, Indones...</td>\n",
       "    </tr>\n",
       "    <tr>\n",
       "      <th>2</th>\n",
       "      <td>Impetigore</td>\n",
       "      <td>null</td>\n",
       "      <td>Strong Start. Steady Middle. Weak Ending.</td>\n",
       "      <td>CinemaClown</td>\n",
       "      <td>From the writer-director of Satan's Slaves com...</td>\n",
       "    </tr>\n",
       "    <tr>\n",
       "      <th>3</th>\n",
       "      <td>Impetigore</td>\n",
       "      <td>8</td>\n",
       "      <td>not bad after all but not that much of gore as...</td>\n",
       "      <td>trashgang</td>\n",
       "      <td>And suddenly Indonesia and South Korea came on...</td>\n",
       "    </tr>\n",
       "    <tr>\n",
       "      <th>4</th>\n",
       "      <td>Impetigore</td>\n",
       "      <td>8</td>\n",
       "      <td>Not exactly a warm welcome.</td>\n",
       "      <td>Pjtaylor-96-138044</td>\n",
       "      <td>After an attack at work prompts her to look in...</td>\n",
       "    </tr>\n",
       "    <tr>\n",
       "      <th>...</th>\n",
       "      <td>...</td>\n",
       "      <td>...</td>\n",
       "      <td>...</td>\n",
       "      <td>...</td>\n",
       "      <td>...</td>\n",
       "    </tr>\n",
       "    <tr>\n",
       "      <th>73</th>\n",
       "      <td>Impetigore</td>\n",
       "      <td>10</td>\n",
       "      <td>Best Movie in Indonesia</td>\n",
       "      <td>gillylubis</td>\n",
       "      <td>This is so incredible and scary, looking from ...</td>\n",
       "    </tr>\n",
       "    <tr>\n",
       "      <th>74</th>\n",
       "      <td>Impetigore</td>\n",
       "      <td>6</td>\n",
       "      <td>No good</td>\n",
       "      <td>imyxqpixmy</td>\n",
       "      <td>No sense.Real people would not choose to do so...</td>\n",
       "    </tr>\n",
       "    <tr>\n",
       "      <th>75</th>\n",
       "      <td>Impetigore</td>\n",
       "      <td>9</td>\n",
       "      <td>Recommended!</td>\n",
       "      <td>seirahana</td>\n",
       "      <td>I very recommended this movie. They focus on t...</td>\n",
       "    </tr>\n",
       "    <tr>\n",
       "      <th>76</th>\n",
       "      <td>Impetigore</td>\n",
       "      <td>1</td>\n",
       "      <td>Horrible</td>\n",
       "      <td>albertjohannesberg</td>\n",
       "      <td>About an hour of unengaging \"mysterie\" leading...</td>\n",
       "    </tr>\n",
       "    <tr>\n",
       "      <th>77</th>\n",
       "      <td>Impetigore</td>\n",
       "      <td>5</td>\n",
       "      <td>TREMENDA RANDOMADA</td>\n",
       "      <td>ddavilart</td>\n",
       "      <td>Si te gustó A Serbian film, está es tu películ...</td>\n",
       "    </tr>\n",
       "  </tbody>\n",
       "</table>\n",
       "<p>78 rows × 5 columns</p>\n",
       "</div>"
      ],
      "text/plain": [
       "   Movie Title User Rating                                       Review Title  \\\n",
       "0   Impetigore           7  More of a twisted supernatural drama with surr...   \n",
       "1   Impetigore           7  Heavy gore and some tough scenes to watch in a...   \n",
       "2   Impetigore        null          Strong Start. Steady Middle. Weak Ending.   \n",
       "3   Impetigore           8  not bad after all but not that much of gore as...   \n",
       "4   Impetigore           8                        Not exactly a warm welcome.   \n",
       "..         ...         ...                                                ...   \n",
       "73  Impetigore          10                            Best Movie in Indonesia   \n",
       "74  Impetigore           6                                            No good   \n",
       "75  Impetigore           9                                       Recommended!   \n",
       "76  Impetigore           1                                           Horrible   \n",
       "77  Impetigore           5                                 TREMENDA RANDOMADA   \n",
       "\n",
       "              Username                                             Review  \n",
       "0         Fella_shibby  I found this to be a disappointment as my expe...  \n",
       "1          jtindahouse  I was supposed to be arriving in Bali, Indones...  \n",
       "2          CinemaClown  From the writer-director of Satan's Slaves com...  \n",
       "3            trashgang  And suddenly Indonesia and South Korea came on...  \n",
       "4   Pjtaylor-96-138044  After an attack at work prompts her to look in...  \n",
       "..                 ...                                                ...  \n",
       "73          gillylubis  This is so incredible and scary, looking from ...  \n",
       "74          imyxqpixmy  No sense.Real people would not choose to do so...  \n",
       "75           seirahana  I very recommended this movie. They focus on t...  \n",
       "76  albertjohannesberg  About an hour of unengaging \"mysterie\" leading...  \n",
       "77           ddavilart  Si te gustó A Serbian film, está es tu películ...  \n",
       "\n",
       "[78 rows x 5 columns]"
      ]
     },
     "execution_count": 12,
     "metadata": {},
     "output_type": "execute_result"
    }
   ],
   "source": [
    "movie_DF"
   ]
  },
  {
   "cell_type": "markdown",
   "id": "b34a4894",
   "metadata": {},
   "source": [
    "# Save into excel file"
   ]
  },
  {
   "cell_type": "code",
   "execution_count": 13,
   "id": "4a2898e5",
   "metadata": {},
   "outputs": [],
   "source": [
    "movie_DF.to_excel('./Movie Reviews/tt9000302.xlsx')"
   ]
  },
  {
   "cell_type": "markdown",
   "id": "01c519a3",
   "metadata": {},
   "source": [
    "# Save into csv file"
   ]
  },
  {
   "cell_type": "code",
   "execution_count": 14,
   "id": "94b8ce80",
   "metadata": {},
   "outputs": [],
   "source": [
    "movie_DF.to_csv('./Movie Reviews/tt9000302.csv')"
   ]
  },
  {
   "cell_type": "code",
   "execution_count": null,
   "id": "9e7d3325",
   "metadata": {},
   "outputs": [],
   "source": []
  }
 ],
 "metadata": {
  "kernelspec": {
   "display_name": "Python 3 (ipykernel)",
   "language": "python",
   "name": "python3"
  },
  "language_info": {
   "codemirror_mode": {
    "name": "ipython",
    "version": 3
   },
   "file_extension": ".py",
   "mimetype": "text/x-python",
   "name": "python",
   "nbconvert_exporter": "python",
   "pygments_lexer": "ipython3",
   "version": "3.9.12"
  }
 },
 "nbformat": 4,
 "nbformat_minor": 5
}
